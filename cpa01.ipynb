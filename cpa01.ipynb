{
 "cells": [
  {
   "cell_type": "markdown",
   "id": "05ee92fd",
   "metadata": {},
   "source": [
    "# Creative Programming Assignment 01\n",
    "\n",
    "Author: Kelly Zhang\n",
    "\n",
    "### Monthly Provisional Counts of Death\n",
    "\n",
    "This dataset is published by the Centers for Disease Control and Prevention on data.gov. It details the count of deaths for each month, ranging from 2019 to 2021. Death counts are further broken down per age group, sex, and race/ethnicity for select underlying causes.\n",
    "\n",
    "You can access the dataset here: \n",
    "https://catalog.data.gov/dataset/monthly-provisional-counts-of-deaths-by-age-group-sex-and-race-ethnicity-for-select-causes\n",
    "\n",
    "I will answer the following questions:\n",
    "1. Which age group has the highest death count per month?\n",
    "2. What are the top three causes of death over the years? \n",
    "3. What is top cause of death per age group?"
   ]
  },
  {
   "cell_type": "code",
   "execution_count": null,
   "id": "ce9030e9",
   "metadata": {},
   "outputs": [],
   "source": [
    "import numpy as np\n",
    "import pandas as pd\n",
    "import matplotlib.pyplot as plt"
   ]
  },
  {
   "cell_type": "markdown",
   "id": "0451c01a",
   "metadata": {},
   "source": [
    "### 1. Load the data into a pandas dataframe"
   ]
  },
  {
   "cell_type": "code",
   "execution_count": null,
   "id": "a50818f1",
   "metadata": {},
   "outputs": [],
   "source": [
    "df = pd.read_csv('Monthly Death Counts.csv')\n",
    "df"
   ]
  },
  {
   "cell_type": "markdown",
   "id": "e4df2ccd",
   "metadata": {},
   "source": [
    "**Clean up data**\n"
   ]
  },
  {
   "cell_type": "code",
   "execution_count": null,
   "id": "59ccd401",
   "metadata": {},
   "outputs": [],
   "source": [
    "df.columns"
   ]
  },
  {
   "cell_type": "code",
   "execution_count": null,
   "id": "a45e3fd7",
   "metadata": {},
   "outputs": [],
   "source": [
    "# merge respiratory system ailments\n",
    "df['Respiratory diseases'] = df['Chronic lower respiratory diseases (J40-J47)'] + df['Other diseases of respiratory system (J00-J06,J30-J39,J67,J70-J98)']\n",
    "\n",
    "# merge both COVID-19 columns\n",
    "df['COVID-19'] = df['COVID-19 (U071, Multiple Cause of Death)'] + df['COVID-19 (U071, Underlying Cause of Death)']\n",
    "\n",
    "df"
   ]
  },
  {
   "cell_type": "markdown",
   "id": "358437cf",
   "metadata": {},
   "source": [
    "Drop unnecessary columns"
   ]
  },
  {
   "cell_type": "code",
   "execution_count": null,
   "id": "b1929b5e",
   "metadata": {},
   "outputs": [],
   "source": [
    "to_drop = ['AnalysisDate', \n",
    "          'Start Date',\n",
    "          'End Date',\n",
    "          'Jurisdiction of Occurrence', \n",
    "          'Chronic lower respiratory diseases (J40-J47)',\n",
    "          'Other diseases of respiratory system (J00-J06,J30-J39,J67,J70-J98)',\n",
    "          'COVID-19 (U071, Multiple Cause of Death)',\n",
    "          'COVID-19 (U071, Underlying Cause of Death)']\n",
    "\n",
    "df.drop(to_drop, inplace=True, axis=1)\n",
    "df"
   ]
  },
  {
   "cell_type": "markdown",
   "id": "85a667d1",
   "metadata": {},
   "source": [
    "Modify column names to make them simpler"
   ]
  },
  {
   "cell_type": "code",
   "execution_count": null,
   "id": "c7a02f54",
   "metadata": {},
   "outputs": [],
   "source": [
    "df.rename(\n",
    "    columns={'Date Of Death Year': 'Year', \n",
    "         'Date Of Death Month': 'Month',\n",
    "         'Sex': 'Sex',\n",
    "         'Race/Ethnicity': 'Race/Ethnicity', \n",
    "         'AgeGroup': 'Age Group', \n",
    "         'AllCause': 'Total', \n",
    "         'NaturalCause': 'Natural Causes',\n",
    "         'Septicemia (A40-A41)': 'Septicemia', \n",
    "         'Malignant neoplasms (C00-C97)': 'Malignant neoplasms',\n",
    "         'Diabetes mellitus (E10-E14)': 'Diabetes mellitus', \n",
    "         'Alzheimer disease (G30)': 'Alzheimer disease',\n",
    "         'Influenza and pneumonia (J09-J18)': 'Influenza and pneumonia',\n",
    "         'Nephritis, nephrotic syndrome and nephrosis (N00-N07,N17-N19,N25-N27)': 'Nephritis, nephrotic syndrome and nephrosis',\n",
    "         'Symptoms, signs and abnormal clinical and laboratory findings, not elsewhere classified (R00-R99)': 'Not elsewhere classified',\n",
    "         'Diseases of heart (I00-I09,I11,I13,I20-I51)': 'Heart diseases',\n",
    "         'Cerebrovascular diseases (I60-I69)': 'Cerebrovascular diseases',\n",
    "         'Respiratory diseases': 'Respiratory diseases',\n",
    "         'COVID-19': 'COVID-19'}, \n",
    "      inplace=True)\n",
    "\n",
    "df"
   ]
  },
  {
   "cell_type": "markdown",
   "id": "ff679000",
   "metadata": {},
   "source": [
    "Drop any rows with NaN values"
   ]
  },
  {
   "cell_type": "code",
   "execution_count": null,
   "id": "de9dc5d4",
   "metadata": {},
   "outputs": [],
   "source": [
    "df = df.dropna()\n",
    "df"
   ]
  },
  {
   "cell_type": "markdown",
   "id": "2252a3aa",
   "metadata": {},
   "source": [
    "Change the 'Male' value in the 'Sex' column to 'M'"
   ]
  },
  {
   "cell_type": "code",
   "execution_count": null,
   "id": "ec54ed48",
   "metadata": {},
   "outputs": [],
   "source": [
    "df['Sex'].replace('Male', 'M', inplace=True)\n",
    "df"
   ]
  },
  {
   "cell_type": "markdown",
   "id": "a7c2b349",
   "metadata": {},
   "source": [
    "Combine Year and Month into one column, 'Date', for easy grouping. Set every entry to Day 1, because the Day is not defined in this dataset."
   ]
  },
  {
   "cell_type": "code",
   "execution_count": null,
   "id": "1cf5af21",
   "metadata": {},
   "outputs": [],
   "source": [
    "df['Date'] = pd.to_datetime(df[['Year','Month']].assign(DAY=1))"
   ]
  },
  {
   "cell_type": "code",
   "execution_count": null,
   "id": "d727fca2",
   "metadata": {},
   "outputs": [],
   "source": [
    "# Drop Month and Year columns\n",
    "df.drop(['Month'], inplace=True, axis=1)\n",
    "df.drop(['Year'], inplace=True, axis=1)\n",
    "\n",
    "# Move Date column to first column\n",
    "date_column = df.pop('Date')\n",
    "df.insert(0, 'Date', date_column)\n",
    "\n",
    "df"
   ]
  },
  {
   "cell_type": "markdown",
   "id": "21a605b8",
   "metadata": {},
   "source": [
    "### 2. Rough Overview of data:"
   ]
  },
  {
   "cell_type": "code",
   "execution_count": null,
   "id": "99f165b2",
   "metadata": {},
   "outputs": [],
   "source": [
    "df.describe()"
   ]
  },
  {
   "cell_type": "markdown",
   "id": "4de7f621",
   "metadata": {},
   "source": [
    "### 3. Analyze Data"
   ]
  },
  {
   "cell_type": "markdown",
   "id": "fc2df888",
   "metadata": {},
   "source": [
    "a. Print array of columns and index array"
   ]
  },
  {
   "cell_type": "code",
   "execution_count": null,
   "id": "0e799487",
   "metadata": {
    "scrolled": true
   },
   "outputs": [],
   "source": [
    "list_of_index = df.values[0]\n",
    "for i in range(len(df.columns)):\n",
    "    print(df.columns[i], \":\", end=\" \")\n",
    "    print(list_of_index[i])"
   ]
  },
  {
   "cell_type": "markdown",
   "id": "75fc5b69",
   "metadata": {},
   "source": [
    "b. Group by number of COVID-19 for each year "
   ]
  },
  {
   "cell_type": "code",
   "execution_count": null,
   "id": "3c44d35c",
   "metadata": {},
   "outputs": [],
   "source": [
    "covid_df = df.groupby('Date')['COVID-19'].agg([np.sum])\n",
    "covid_df"
   ]
  },
  {
   "cell_type": "markdown",
   "id": "c9d8a629",
   "metadata": {},
   "source": [
    "c. Simple plot: Number of COVID-related deaths per month"
   ]
  },
  {
   "cell_type": "code",
   "execution_count": null,
   "id": "1972f1ce",
   "metadata": {},
   "outputs": [],
   "source": [
    "plt.plot(covid_df)\n",
    "plt.xlabel(\"Month\")\n",
    "plt.xticks(rotation=90)\n",
    "plt.ylabel(\"Number of COVID-19 Deaths\")\n",
    "plt.title(\"Number of COVID-19 Deaths Per Month\")"
   ]
  },
  {
   "cell_type": "markdown",
   "id": "3ef1a6d5",
   "metadata": {},
   "source": [
    "### Q1. Which age group has the highest death count per month?\n",
    "\n",
    "d. pivot table and plot part of data from pivot table"
   ]
  },
  {
   "cell_type": "code",
   "execution_count": null,
   "id": "9a6a4187",
   "metadata": {},
   "outputs": [],
   "source": [
    "pivot = pd.pivot_table(df, \n",
    "                       values='COVID-19',\n",
    "                      index=['Date'],\n",
    "                      columns=['Age Group'])\n",
    "pivot.tail()"
   ]
  },
  {
   "cell_type": "code",
   "execution_count": null,
   "id": "a02d9864",
   "metadata": {},
   "outputs": [],
   "source": [
    "pivot[['0-4 years','5-14 years','15-24 years','25-34 years','35-44 years','45-54 years','55-64 years','65-74 years','75-84 years','85 years and over']].plot(figsize=(10,6))\n",
    "plt.grid()"
   ]
  },
  {
   "cell_type": "markdown",
   "id": "c2c842b5",
   "metadata": {},
   "source": [
    "### Q2. What are the top three causes of death over the years? "
   ]
  },
  {
   "cell_type": "code",
   "execution_count": null,
   "id": "ccbf40e5",
   "metadata": {},
   "outputs": [],
   "source": [
    "# get the aggregate sum of each numeric column\n",
    "col_sums = df.sum(axis=0, numeric_only=True)\n",
    "\n",
    "# remove first row\n",
    "col_sums.drop(index=col_sums.index[0], inplace=True)\n",
    "\n",
    "col_sums"
   ]
  },
  {
   "cell_type": "code",
   "execution_count": null,
   "id": "f254d167",
   "metadata": {},
   "outputs": [],
   "source": [
    "# plot each cause of death vs number of deaths\n",
    "plt.plot(col_sums)\n",
    "plt.xlabel(\"Cause of Death\")\n",
    "plt.xticks(rotation=90)\n",
    "plt.ylabel(\"Number of Deaths\")\n",
    "plt.title(\"Number of Deaths Per Cause of Death\")"
   ]
  },
  {
   "cell_type": "markdown",
   "id": "c5ebaa8f",
   "metadata": {},
   "source": [
    "### Q3. What is top cause of death per age group?"
   ]
  },
  {
   "cell_type": "code",
   "execution_count": null,
   "id": "265091f9",
   "metadata": {},
   "outputs": [],
   "source": [
    "# plot number of deaths for each cause of death, per age group (lines)\n",
    "df3 = df.groupby(by=['Age Group']).sum()\n",
    "df3 = df3.iloc[: , 1:] # remove first column, which is \"Total\"\n",
    "df3 = df3.transpose()\n",
    "df3"
   ]
  },
  {
   "cell_type": "code",
   "execution_count": null,
   "id": "217e738c",
   "metadata": {},
   "outputs": [],
   "source": [
    "df3.plot(figsize=(15,6)) # swap rows and columns and plot\n",
    "\n",
    "plt.xlabel(\"Cause of Death\", fontsize=14)\n",
    "plt.xticks(rotation=90, fontsize=14)\n",
    "plt.ylabel(\"Number of Deaths\", fontsize=14)\n",
    "plt.title(\"Number of Deaths Per Cause of Death\", fontsize=20)\n",
    "\n",
    "plt.show()"
   ]
  },
  {
   "cell_type": "markdown",
   "id": "b59df5b1",
   "metadata": {},
   "source": [
    "### 4. Discussion\n",
    "\n",
    "I imported the dataset, AH Monthly Provisional Counts of Deaths for Select Causes of Death by Sex, Age, and Race and Hispanic Origin, which had the provisional counts of death per month from years 2019 to 2021. The counts are broken up per cause, gender, age group, and race/ethnicity.\n",
    "\n",
    "I was curious about the top causes of death, which age group had the highest death counts, and what the top cause of death per age group is. \n",
    "\n",
    "The age group with the highest death counts are the 85 years old and up, with the highest death counts for all age groups in Jan 2021.\n",
    "\n",
    "The top three causes of death are natural causes (count: 7973174), heart diseases (count: 1845070), and Malignant neoplasms  (count: 1639339), with the forth highest cause being COVID-19 (count: 1352990). \n",
    "\n",
    "The top cause of death for each age group looks like natural causes, with malignant neoplasms, heart diseases, and COVID-19 as the second top cause of death for various age groups."
   ]
  }
 ],
 "metadata": {
  "kernelspec": {
   "display_name": "Python 3 (ipykernel)",
   "language": "python",
   "name": "python3"
  },
  "language_info": {
   "codemirror_mode": {
    "name": "ipython",
    "version": 3
   },
   "file_extension": ".py",
   "mimetype": "text/x-python",
   "name": "python",
   "nbconvert_exporter": "python",
   "pygments_lexer": "ipython3",
   "version": "3.9.7"
  }
 },
 "nbformat": 4,
 "nbformat_minor": 5
}
