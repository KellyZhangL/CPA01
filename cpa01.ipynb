{
 "cells": [
  {
   "cell_type": "markdown",
   "id": "05ee92fd",
   "metadata": {},
   "source": [
    "# Creative Programming Assignment 01"
   ]
  },
  {
   "cell_type": "markdown",
   "id": "6ae42ba1",
   "metadata": {},
   "source": [
    "### Import dataset for"
   ]
  },
  {
   "cell_type": "code",
   "execution_count": null,
   "id": "ce9030e9",
   "metadata": {},
   "outputs": [],
   "source": []
  },
  {
   "cell_type": "markdown",
   "id": "c85b2d40",
   "metadata": {},
   "source": [
    "### Create a header cell in which you\n",
    "- describe the dataset\n",
    "- give the URL to where to find the dataset and explain how to download it\n",
    "- give at least 2 interesting questions you have about the data"
   ]
  },
  {
   "cell_type": "code",
   "execution_count": null,
   "id": "da929d05",
   "metadata": {},
   "outputs": [],
   "source": [
    "    "
   ]
  },
  {
   "cell_type": "code",
   "execution_count": null,
   "id": "55e131d3",
   "metadata": {},
   "outputs": [],
   "source": []
  },
  {
   "cell_type": "markdown",
   "id": "a4e0917b",
   "metadata": {},
   "source": [
    "Question 1: "
   ]
  },
  {
   "cell_type": "code",
   "execution_count": null,
   "id": "12e68020",
   "metadata": {},
   "outputs": [],
   "source": []
  },
  {
   "cell_type": "markdown",
   "id": "1467bc8f",
   "metadata": {},
   "source": [
    "Question 2: "
   ]
  },
  {
   "cell_type": "code",
   "execution_count": null,
   "id": "8dd0b264",
   "metadata": {},
   "outputs": [],
   "source": []
  },
  {
   "cell_type": "markdown",
   "id": "0451c01a",
   "metadata": {},
   "source": [
    "Load the data into a pandas dataframe"
   ]
  },
  {
   "cell_type": "code",
   "execution_count": null,
   "id": "a50818f1",
   "metadata": {},
   "outputs": [],
   "source": []
  },
  {
   "cell_type": "markdown",
   "id": "21a605b8",
   "metadata": {},
   "source": [
    "Rough Overview of data"
   ]
  },
  {
   "cell_type": "code",
   "execution_count": 1,
   "id": "88dd1ce9",
   "metadata": {},
   "outputs": [
    {
     "ename": "NameError",
     "evalue": "name 'pd' is not defined",
     "output_type": "error",
     "traceback": [
      "\u001b[1;31m---------------------------------------------------------------------------\u001b[0m",
      "\u001b[1;31mNameError\u001b[0m                                 Traceback (most recent call last)",
      "\u001b[1;32m~\\AppData\\Local\\Temp/ipykernel_22840/4037241142.py\u001b[0m in \u001b[0;36m<module>\u001b[1;34m\u001b[0m\n\u001b[1;32m----> 1\u001b[1;33m \u001b[0mpd\u001b[0m\u001b[1;33m.\u001b[0m\u001b[0mdescribe\u001b[0m\u001b[1;33m(\u001b[0m\u001b[1;33m)\u001b[0m\u001b[1;33m\u001b[0m\u001b[1;33m\u001b[0m\u001b[0m\n\u001b[0m",
      "\u001b[1;31mNameError\u001b[0m: name 'pd' is not defined"
     ]
    }
   ],
   "source": [
    "pd.describe()"
   ]
  },
  {
   "cell_type": "markdown",
   "id": "4de7f621",
   "metadata": {},
   "source": [
    "### Analyze Data"
   ]
  },
  {
   "cell_type": "markdown",
   "id": "fc2df888",
   "metadata": {},
   "source": [
    "Print array of columns and index array"
   ]
  },
  {
   "cell_type": "code",
   "execution_count": null,
   "id": "0e799487",
   "metadata": {},
   "outputs": [],
   "source": []
  },
  {
   "cell_type": "markdown",
   "id": "05f1c3ce",
   "metadata": {},
   "source": [
    "Create some simple plot of part of the data"
   ]
  },
  {
   "cell_type": "code",
   "execution_count": null,
   "id": "5cfdcd2b",
   "metadata": {},
   "outputs": [],
   "source": []
  },
  {
   "cell_type": "markdown",
   "id": "8d17b9d4",
   "metadata": {},
   "source": [
    "Create a pivot table and plot some data from that pivot table"
   ]
  },
  {
   "cell_type": "code",
   "execution_count": null,
   "id": "b88a1ad0",
   "metadata": {},
   "outputs": [],
   "source": []
  },
  {
   "cell_type": "markdown",
   "id": "5a388576",
   "metadata": {},
   "source": [
    "Groupby"
   ]
  },
  {
   "cell_type": "code",
   "execution_count": null,
   "id": "b15f5e67",
   "metadata": {},
   "outputs": [],
   "source": []
  },
  {
   "cell_type": "code",
   "execution_count": null,
   "id": "35d8731e",
   "metadata": {},
   "outputs": [],
   "source": []
  },
  {
   "cell_type": "code",
   "execution_count": null,
   "id": "707cef2a",
   "metadata": {},
   "outputs": [],
   "source": []
  }
 ],
 "metadata": {
  "kernelspec": {
   "display_name": "Python 3 (ipykernel)",
   "language": "python",
   "name": "python3"
  },
  "language_info": {
   "codemirror_mode": {
    "name": "ipython",
    "version": 3
   },
   "file_extension": ".py",
   "mimetype": "text/x-python",
   "name": "python",
   "nbconvert_exporter": "python",
   "pygments_lexer": "ipython3",
   "version": "3.9.7"
  }
 },
 "nbformat": 4,
 "nbformat_minor": 5
}
